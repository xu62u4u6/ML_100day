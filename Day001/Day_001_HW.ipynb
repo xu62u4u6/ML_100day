{
 "cells": [
  {
   "cell_type": "markdown",
   "metadata": {},
   "source": [
    "## 練習時間\n",
    "#### 請寫一個函式用來計算 Mean Square Error\n",
    "$ MSE = \\frac{1}{n}\\sum_{i=1}^{n}{(Y_i - \\hat{Y}_i)^2} $\n",
    "\n",
    "### Hint: [如何取平方](https://googoodesign.gitbooks.io/-ezpython/unit-1.html)"
   ]
  },
  {
   "cell_type": "markdown",
   "metadata": {},
   "source": [
    "# [作業目標]\n",
    "- 仿造範例的MAE函數, 自己寫一個MSE函數(參考上面公式)"
   ]
  },
  {
   "cell_type": "markdown",
   "metadata": {},
   "source": [
    "# [作業重點]\n",
    "- 注意程式的縮排\n",
    "- 是否能將數學公式, 轉換為 Python 的函式組合? (In[2], Out[2])"
   ]
  },
  {
   "cell_type": "code",
   "execution_count": 1,
   "metadata": {},
   "outputs": [],
   "source": [
    "# 載入基礎套件與代稱\n",
    "import numpy as np\n",
    "import matplotlib.pyplot as plt"
   ]
  },
  {
   "cell_type": "code",
   "execution_count": 2,
   "metadata": {},
   "outputs": [],
   "source": [
    "def mean_absolute_error(y, yp):\n",
    "    \"\"\"\n",
    "    計算 MAE\n",
    "    Args:\n",
    "        - y: 實際值\n",
    "        - yp: 預測值\n",
    "    Return:\n",
    "        - mae: MAE\n",
    "    \"\"\"\n",
    "    mae = MAE = sum(abs(y - yp)) / len(y)\n",
    "    return mae\n",
    "\n",
    "# 定義 mean_squared_error 這個函數, 計算並傳回 MSE\n",
    "def mean_squared_error(y, yp):\n",
    "    \"\"\"\n",
    "    計算 MSE\n",
    "    Args:\n",
    "        - y: 實際值\n",
    "        - yp: 預測值\n",
    "    Return:\n",
    "        - mse: MSE\n",
    "    \"\"\"\n",
    "    mse = MSE = sum((y - yp)**2)/len(y)\n",
    "    return mse\n",
    "    "
   ]
  },
  {
   "cell_type": "code",
   "execution_count": 3,
   "metadata": {},
   "outputs": [
    {
     "data": {
      "image/png": "[encoded data removed]",
      "text/plain": [
       "<Figure size 432x288 with 1 Axes>"
      ]
     },
     "metadata": {
      "needs_background": "light"
     },
     "output_type": "display_data"
    }
   ],
   "source": [
    "# 與範例相同, 不另外解說\n",
    "w = 3\n",
    "b = 0.5\n",
    "x_lin = np.linspace(0, 100, 101)\n",
    "y = (x_lin + np.random.randn(101) * 5) * w + b\n",
    "\n",
    "plt.plot(x_lin, y, 'b.', label = 'data points')\n",
    "plt.title(\"Assume we have data points\")\n",
    "plt.legend(loc = 2)\n",
    "plt.show()"
   ]
  },
  {
   "cell_type": "code",
   "execution_count": 4,
   "metadata": {},
   "outputs": [
    {
     "data": {
      "image/png": "[encoded data removed]",
      "text/plain": [
       "<Figure size 432x288 with 1 Axes>"
      ]
     },
     "metadata": {
      "needs_background": "light"
     },
     "output_type": "display_data"
    }
   ],
   "source": [
    "# 與範例相同, 不另外解說\n",
    "y_hat = x_lin * w + b\n",
    "plt.plot(x_lin, y, 'b.', label = 'data')\n",
    "plt.plot(x_lin, y_hat, 'r-', label = 'prediction')\n",
    "plt.title(\"Assume we have data points (And the prediction)\")\n",
    "plt.legend(loc = 2)\n",
    "plt.show()"
   ]
  },
  {
   "cell_type": "code",
   "execution_count": 5,
   "metadata": {},
   "outputs": [
    {
     "name": "stdout",
     "output_type": "stream",
     "text": [
      "The Mean squared error is 232.396\n",
      "The Mean absolute error is 12.526\n"
     ]
    }
   ],
   "source": [
    "# 執行 Function, 確認有沒有正常執行\n",
    "MSE = mean_squared_error(y, y_hat)\n",
    "MAE = mean_absolute_error(y, y_hat)\n",
    "print(\"The Mean squared error is %.3f\" % (MSE))\n",
    "print(\"The Mean absolute error is %.3f\" % (MAE))"
   ]
  },
  {
   "cell_type": "markdown",
   "metadata": {},
   "source": [
    "# [作業2]\n",
    "\n",
    "請上 Kaggle, 在 Competitions 或 Dataset 中找一組競賽或資料並寫下：\n",
    "\n",
    "1. 你選的這組資料為何重要\n",
    "\n",
    "2. 資料從何而來 (tips: 譬如提供者是誰、以什麼方式蒐集)\n",
    "\n",
    "3. 蒐集而來的資料型態為何\n",
    "\n",
    "4. 這組資料想解決的問題如何評估\n",
    "\n",
    "# [作業3]\n",
    "\n",
    "想像你經營一個自由載客車隊，你希望能透過數據分析以提升業績，請你思考並描述你如何規劃整體的分析/解決方案：\n",
    "\n",
    "1. 核心問題為何 (tips：如何定義 「提升業績 & 你的假設」)\n",
    "\n",
    "2. 資料從何而來 (tips：哪些資料可能會對你想問的問題產生影響 & 資料如何蒐集)\n",
    "\n",
    "3. 蒐集而來的資料型態為何\n",
    "\n",
    "4. 你要回答的問題，其如何評估 (tips：你的假設如何驗證)"
   ]
  },
  {
   "cell_type": "markdown",
   "metadata": {},
   "source": [
    "## __作業2__\n",
    "\n",
    "### Generative Dog Images\n",
    "https://www.kaggle.com/c/generative-dog-images/overview <BR><BR>\n",
    "\n",
    "1. 利用GAN生成狗的圖像，已經到了肉眼不仔細看看不出來的地步\n",
    "2. 資料來源只有Stanford Dogs Dataset可使用，使用GAN產生更多數據\n",
    "3. 圖片\n",
    "4. 透過MiFID方法評估，而FID是使用中間層提取出特徵，再使用具有平均μ和協方差Σ的多元高斯分佈對這些特徵的數據分佈進行建模，真實圖像r和生成的圖像g之間的FID計算如下：<br>\n",
    "\n",
    " $FID=||μr−μg||^2+Tr(Σr+Σg−2(ΣrΣg)^{1/2})$ <br>\n",
    "\n",
    " 而MiFID則是多考慮了模型的記憶，記憶距離定義為特徵空間中所有訓練樣本的最小cos距離，<br>\n",
    " 在所有用戶生成的圖像樣本中取平均值，超過一定閥值則設為1.0，公式如下<br>\n",
    "\n",
    " $dij=1−cos(fgi,frj)=1−\\frac{fgi⋅frj}{|fgi||frj|}$<br>\n",
    " \n",
    " "
   ]
  },
  {
   "cell_type": "markdown",
   "metadata": {},
   "source": [
    "## __作業3__<BR>\n",
    "\n",
    "1. __我認為要提升業績的方法是，縮短乘客叫車的等待時間，以及路徑規劃，另外就是顧客的乘車舒適度__<BR><BR>\n",
    "    \n",
    "    * __找出乘客搭車熱點__<BR>\n",
    "    \n",
    "         畢竟找到最有可能上車的點先部屬車輛在附近就能大幅縮短等車時間，較少人的點就派速度較快的車輛。<BR>\n",
    "         至於要怎麼知道速度呢?，這就要靠分析駕駛資料了<BR><BR>\n",
    "    \n",
    "    * __分析每位駕駛資料__<BR>\n",
    "         \n",
    "         透過GPS定位駕駛速度變化，是否超速或繞遠路等等，找出優良駕駛。<BR>\n",
    "         平均速度可以判斷適合定點還是跑較遠點，<BR>\n",
    "         另外乘車後問卷也能評估駕駛，至於填寫的誘因就用優惠券。<BR><BR>\n",
    "    \n",
    "2. __資料蒐集從每次乘客上車地點、駕駛定位、問卷__<BR><BR>\n",
    "\n",
    "3. __蒐集資料形式為:__<BR>\n",
    "    * 上車地點和駕駛定位 : 座標<BR>\n",
    "    * 問卷 : 滿意度用數字來呈現<BR><BR>\n",
    "   \n",
    "4. __以業績實際提升做為評估方式__<BR>   \n",
    "\n",
    "    以營業而提升以及顧客滿意度作為評估，兩者皆為數值形式，可以明顯看出差異\n",
    "         \n",
    "      "
   ]
  },
  {
   "cell_type": "code",
   "execution_count": null,
   "metadata": {},
   "outputs": [],
   "source": []
  }
 ],
 "metadata": {
  "anaconda-cloud": {},
  "kernelspec": {
   "display_name": "Python 3",
   "language": "python",
   "name": "python3"
  },
  "language_info": {
   "codemirror_mode": {
    "name": "ipython",
    "version": 3
   },
   "file_extension": ".py",
   "mimetype": "text/x-python",
   "name": "python",
   "nbconvert_exporter": "python",
   "pygments_lexer": "ipython3",
   "version": "3.7.3"
  }
 },
 "nbformat": 4,
 "nbformat_minor": 1
}
