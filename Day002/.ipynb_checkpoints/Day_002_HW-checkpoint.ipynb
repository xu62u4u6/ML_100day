{
 "cells": [
  {
   "cell_type": "markdown",
   "metadata": {},
   "source": [
    "## [作業目標]\n",
    "了解機器學習適合應用的領域與範疇。"
   ]
  },
  {
   "cell_type": "markdown",
   "metadata": {},
   "source": [
    "## [作業重點]\n",
    "透過瞭解機器學習的運作方式，找出非常適用機器學習應用的領域及其原因"
   ]
  },
  {
   "cell_type": "markdown",
   "metadata": {},
   "source": [
    "## 作業\n",
    "請找出一個你認為機器學習可以發光發熱的領域並闡述原因? "
   ]
  },
  {
   "cell_type": "markdown",
   "metadata": {},
   "source": [
    "   若是問現在已經發光發熱的，我認為像是自動駕駛和醫學領域以及人臉辨識上面都已經有了很大的進展，但我覺得應該把範圍限縮到「深度學習」上，畢竟深度學習能解決許多傳統方法無法解決的問題，像是人臉辨識，藉由CNN發展已經能達到了很高的辨識度，甚至已經到了可以實際用在生活中的地步，像是中國的社會評分制度。\n",
    "   \n",
    "   若是問還沒有那麼明顯的發展的，我認為是在網路言論分析上我認為很有發展性，透過語意分析能夠了解目前網路上留言的風向，某一方面可以做為一定的民意參考，另外分析語意也能讓廠商更了解顧客的意見，可以大幅節省人力閱讀成本，當然怎麼做出一個好的Model還有蒐集資料也是很重要的，但我依舊認為ML技術對新創公司門檻降低是很大的幫助。"
   ]
  }
 ],
 "metadata": {
  "kernelspec": {
   "display_name": "Python 3",
   "language": "python",
   "name": "python3"
  },
  "language_info": {
   "codemirror_mode": {
    "name": "ipython",
    "version": 3
   },
   "file_extension": ".py",
   "mimetype": "text/x-python",
   "name": "python",
   "nbconvert_exporter": "python",
   "pygments_lexer": "ipython3",
   "version": "3.7.3"
  }
 },
 "nbformat": 4,
 "nbformat_minor": 2
}
